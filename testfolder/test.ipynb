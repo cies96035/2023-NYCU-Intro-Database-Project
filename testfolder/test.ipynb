{
 "cells": [
  {
   "cell_type": "code",
   "execution_count": 2,
   "metadata": {},
   "outputs": [],
   "source": [
    "import requests\n",
    "from PIL import Image\n",
    "from io import BytesIO\n",
    "import re\n"
   ]
  },
  {
   "cell_type": "code",
   "execution_count": 3,
   "metadata": {},
   "outputs": [],
   "source": [
    "url = f\"https://api.steampowered.com/ISteamApps/GetAppList/v2\"\n",
    "response = requests.get(url)\n",
    "apps = response.json()['applist']['apps']\n",
    "# print(len(apps))"
   ]
  },
  {
   "cell_type": "code",
   "execution_count": 54,
   "metadata": {},
   "outputs": [],
   "source": [
    "def parse_requirements_string(req_string):\n",
    "    req_dict = {}\n",
    "    req_dict['req'] = req_string\n",
    "    return req_dict\n",
    "    os_match = re.search(r'OS:</strong>\\s+(.+?)<br>', req_string)\n",
    "    if os_match:\n",
    "        req_dict['OS'] = os_match.group(1)\n",
    "    \n",
    "    processor_match = re.search(r'Processor:</strong>\\s+(.+?)<br>', req_string)\n",
    "    if processor_match:\n",
    "        req_dict['Processor'] = processor_match.group(1)\n",
    "    \n",
    "    memory_match = re.search(r'Memory:</strong>\\s+(.+?)<br>', req_string)\n",
    "    if memory_match:\n",
    "        req_dict['Memory'] = memory_match.group(1)\n",
    "    \n",
    "    graphics_match = re.search(r'Graphics:</strong>\\s+(.+?)<br>', req_string)\n",
    "    if graphics_match:\n",
    "        req_dict['Graphics'] = graphics_match.group(1)\n",
    "    \n",
    "    storage_match = re.search(r'Storage:</strong>\\s+(.+?) available space<br></li>', req_string)\n",
    "    if storage_match:\n",
    "        req_dict['Storage'] = storage_match.group(1)\n",
    "    \n",
    "    return req_dict\n"
   ]
  },
  {
   "cell_type": "code",
   "execution_count": 55,
   "metadata": {},
   "outputs": [],
   "source": [
    "cpuList = {'-1'}\n",
    "def remove_html_tags(text):\n",
    "    clean = re.compile('<.*?>')\n",
    "    return re.sub(clean, '', text)\n",
    "def display_game_thumbnail(appid):\n",
    "    url = f\"https://store.steampowered.com/api/appdetails?appids={appid}\"\n",
    "    response = requests.get(url)\n",
    "    data = response.json()\n",
    "    if not data:\n",
    "        return '-1'\n",
    "    # print(data)\n",
    "    l = [str(appid), 'data', 'pc_requirements', 'minimum']\n",
    "    for ll in l:\n",
    "        if ll in data:\n",
    "            data = data[ll]\n",
    "        else:\n",
    "            return '-1'\n",
    "        \n",
    "    # print(data)\n",
    "    minimum_requirements = data\n",
    "    return parse_requirements_string(minimum_requirements)\n",
    "    minimum_requirements = remove_html_tags(minimum_requirements)\n",
    "    pattern = r\"Processor:\\s*(.*?)\\s*(?:Memory:|Graphics:|Storage:|$)\"\n",
    "    processor_match = re.search(pattern, minimum_requirements)\n",
    "\n",
    "    if processor_match:\n",
    "        processor_info = processor_match.group(1)\n",
    "        # print(processor_info)\n",
    "        return processor_info\n",
    "    else:\n",
    "        return '-1'\n",
    "            # print(\"未找到处理器信息\")\n",
    "        # print(minimum_requirements)\n",
    "# display_game_thumbnail(774171)\n",
    "# idx = 0\n",
    "# for app in apps:\n",
    "#     idx += 1\n",
    "#     if idx % 100 == 0:\n",
    "#         print(cpuList)\n",
    "#     cpuList.add(display_game_thumbnail(app['appid']))\n",
    "\n"
   ]
  },
  {
   "cell_type": "code",
   "execution_count": 56,
   "metadata": {},
   "outputs": [
    {
     "name": "stdout",
     "output_type": "stream",
     "text": [
      "{'req': '<strong>Minimum:</strong><br><ul class=\"bb_ul\"><li><strong>OS:</strong> Windows 7 64bit or later<br></li><li><strong>Processor:</strong> Intel Core™ Duo or faster<br></li><li><strong>Memory:</strong> 2 GB RAM<br></li><li><strong>Graphics:</strong> DirectX® 9 Compatible Graphics Card<br></li><li><strong>Storage:</strong> 2 GB available space</li></ul>'}\n"
     ]
    }
   ],
   "source": [
    "print(display_game_thumbnail(774171))"
   ]
  },
  {
   "cell_type": "code",
   "execution_count": 57,
   "metadata": {},
   "outputs": [],
   "source": [
    "def display_game_thumbnail(appid):\n",
    "    url = f\"https://store.steampowered.com/api/appdetails?appids={appid}\"\n",
    "    response = requests.get(url)\n",
    "    data = response.json()\n",
    "    t_url = \"\"\n",
    "    if str(appid) in data:\n",
    "        game_data = data[str(appid)]\n",
    "        if game_data[\"success\"]:\n",
    "            t_url = game_data[\"data\"][\"capsule_imagev5\"]\n",
    "            print(t_url)\n",
    "            \n",
    "    l = [str(appid), 'data', 'pc_requirements', 'minimum']\n",
    "    for ll in l:\n",
    "        if ll in data:\n",
    "            data = data[ll]\n",
    "        else:\n",
    "            return '-1'\n",
    "        \n",
    "    # print(data)\n",
    "    minimum_requirements = data\n",
    "    d = parse_requirements_string(minimum_requirements)\n",
    "    # d['t_url'] = t_url\n",
    "    return d\n",
    "            # if thumbnail_url:\n",
    "            #     response = requests.get(thumbnail_url)\n",
    "            #     image_data = response.content\n",
    "            #     image = Image.open(BytesIO(image_data))\n",
    "            #     image.show()\n",
    "            #     return\n",
    "\n",
    "    # print(\"未找到游戏缩略图\")"
   ]
  },
  {
   "cell_type": "code",
   "execution_count": 58,
   "metadata": {},
   "outputs": [
    {
     "name": "stdout",
     "output_type": "stream",
     "text": [
      "https://cdn.akamai.steamstatic.com/steam/apps/588650/capsule_184x69.jpg?t=1678188017\n",
      "https://cdn.akamai.steamstatic.com/steam/apps/977950/capsule_184x69.jpg?t=1680659451\n",
      "https://cdn.akamai.steamstatic.com/steam/apps/431960/capsule_184x69.jpg?t=1665921297\n",
      "https://cdn.akamai.steamstatic.com/steam/apps/774171/capsule_184x69.jpg?t=1686650225\n",
      "https://cdn.akamai.steamstatic.com/steam/apps/952040/capsule_184x69.jpg?t=1680573530\n",
      "[{'req': '<strong>Minimum:</strong><br><ul class=\"bb_ul\"><li><strong>OS:</strong> Windows 7+<br></li><li><strong>Processor:</strong> Intel i5+<br></li><li><strong>Memory:</strong> 2 GB RAM<br></li><li><strong>Graphics:</strong> Nvidia 450 GTS / Radeon HD 5750 or better<br></li><li><strong>Storage:</strong> 500 MB available space<br></li><li><strong>Additional Notes:</strong> DirectX 9.1+ or OpenGL 3.2+</li></ul>'}, {'req': '<strong>Minimum:</strong><br><ul class=\"bb_ul\"><li><strong>OS:</strong> Windows 7 or later<br></li><li><strong>Memory:</strong> 2 GB RAM<br></li><li><strong>Graphics:</strong> Intel Graphics 4000, 2GB VRAM<br></li><li><strong>Storage:</strong> 1500 MB available space</li></ul>'}, {'req': '<strong>Minimum:</strong><br><ul class=\"bb_ul\"><li><strong>OS:</strong> Windows 7 (with Aero), 8.1, 10, 11<br></li><li><strong>Processor:</strong> 1.66 GHz Intel i5 or equivalent<br></li><li><strong>Memory:</strong> 1024 MB RAM<br></li><li><strong>Graphics:</strong> HD Graphics 4000 or above<br></li><li><strong>DirectX:</strong> Version 10<br></li><li><strong>Storage:</strong> 512 MB available space<br></li><li><strong>Additional Notes:</strong> Windows N versions require the \\'Media Feature Pack\\' from Microsoft. Aero must be enabled on Windows 7. Max video resolutions: Windows 8, 10: 4K, Windows 7: 1080p</li></ul>'}, {'req': '<strong>Minimum:</strong><br><ul class=\"bb_ul\"><li><strong>OS:</strong> Windows 7 64bit or later<br></li><li><strong>Processor:</strong> Intel Core™ Duo or faster<br></li><li><strong>Memory:</strong> 2 GB RAM<br></li><li><strong>Graphics:</strong> DirectX® 9 Compatible Graphics Card<br></li><li><strong>Storage:</strong> 2 GB available space</li></ul>'}, {'req': '<strong>Minimum:</strong><br><ul class=\"bb_ul\"><li><strong>OS:</strong> Windows 7/8/10<br></li><li><strong>Processor:</strong> Intel Core i3-2100 or AMD equivalent<br></li><li><strong>Memory:</strong> 4 GB RAM<br></li><li><strong>Graphics:</strong> Intel® HD Graphics 3000<br></li><li><strong>DirectX:</strong> Version 9.0<br></li><li><strong>Storage:</strong> 5 GB available space<br></li><li><strong>Sound Card:</strong> DirectX compatible sound card</li></ul>'}]\n"
     ]
    }
   ],
   "source": [
    "def search_games(query):\n",
    "    games = []\n",
    "    for app in apps:\n",
    "        if query.lower() in app[\"name\"].lower():\n",
    "            games.append(app['appid'])\n",
    "\n",
    "    return games\n",
    "\n",
    "# search_results = search_games(\"Hogwarts Legacy\")\n",
    "search_results = [588650, 977950, 431960, 774171, 952040]\n",
    "li = []\n",
    "for i in search_results:\n",
    "    print(display_game_thumbnail(i))\n",
    "# print(li)\n"
   ]
  },
  {
   "cell_type": "code",
   "execution_count": 51,
   "metadata": {},
   "outputs": [],
   "source": [
    "import csv\n",
    "\n",
    "def save_dict_to_csv(dict_list, filename):\n",
    "    fieldnames = ['OS', 'Processor', 'Memory', 'Graphics', 'Storage'] #, 't_url']\n",
    "    \n",
    "    with open(filename, 'w', newline='') as csvfile:\n",
    "        writer = csv.DictWriter(csvfile, fieldnames=fieldnames)\n",
    "        writer.writeheader()\n",
    "        \n",
    "        for item in dict_list:\n",
    "            print(item)\n",
    "            writer.writerow(item)\n"
   ]
  },
  {
   "cell_type": "code",
   "execution_count": 52,
   "metadata": {},
   "outputs": [
    {
     "name": "stdout",
     "output_type": "stream",
     "text": [
      "{'OS': 'Windows 7+', 'Processor': 'Intel i5+', 'Memory': '2 GB RAM', 'Graphics': 'Nvidia 450 GTS / Radeon HD 5750 or better', 'Storage': '500 MB'}\n",
      "{'OS': 'Windows 7 or later', 'Memory': '2 GB RAM', 'Graphics': 'Intel Graphics 4000, 2GB VRAM'}\n",
      "{'OS': 'Windows 7 (with Aero), 8.1, 10, 11', 'Processor': '1.66 GHz Intel i5 or equivalent', 'Memory': '1024 MB RAM', 'Graphics': 'HD Graphics 4000 or above', 'Storage': '512 MB'}\n"
     ]
    }
   ],
   "source": [
    "save_dict_to_csv(li, 'l.csv')"
   ]
  }
 ],
 "metadata": {
  "kernelspec": {
   "display_name": "Python 3",
   "language": "python",
   "name": "python3"
  },
  "language_info": {
   "codemirror_mode": {
    "name": "ipython",
    "version": 3
   },
   "file_extension": ".py",
   "mimetype": "text/x-python",
   "name": "python",
   "nbconvert_exporter": "python",
   "pygments_lexer": "ipython3",
   "version": "3.9.13"
  },
  "orig_nbformat": 4
 },
 "nbformat": 4,
 "nbformat_minor": 2
}
